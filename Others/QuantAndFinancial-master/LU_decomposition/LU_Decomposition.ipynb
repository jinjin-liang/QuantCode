{
 "cells": [
  {
   "cell_type": "markdown",
   "metadata": {},
   "source": [
    "Copyright &copy; 2015 Ondrej Martinsky, All rights reserved\n",
    "\n",
    "[www.quantandfinancial.com](http://www.quantandfinancial.com)\n",
    "# Solving Linear Equations using LU Decomposition"
   ]
  },
  {
   "cell_type": "code",
   "execution_count": 1,
   "metadata": {},
   "outputs": [
    {
     "name": "stdout",
     "output_type": "stream",
     "text": [
      "Using matplotlib backend: Qt5Agg\n",
      "Populating the interactive namespace from numpy and matplotlib\n"
     ]
    }
   ],
   "source": [
    "%pylab\n",
    "%matplotlib inline\n",
    "import matplotlib.pyplot\n",
    "from mpl_toolkits.mplot3d import Axes3D\n",
    "import numpy\n",
    "import scipy.linalg"
   ]
  },
  {
   "cell_type": "markdown",
   "metadata": {},
   "source": [
    "## Gaussian Elimination\n",
    "Code for calculating $\\bf{X}$ from $\\bf{M \\cdot X = Y}$ where $\\bf{M}$ is either lower or upper diagonal matrix"
   ]
  },
  {
   "cell_type": "code",
   "execution_count": 2,
   "metadata": {},
   "outputs": [],
   "source": [
    "def solve_l(m, y):  # solves x from m*x = y\n",
    "    assert (m==tril(m)).all()        # assert matrix is lower diagonal\n",
    "    assert (m.shape[0]==m.shape[1])  # Assert matrix is square matrix\n",
    "    N=m.shape[0]\n",
    "    x=zeros(N)                      # Vector of roots\n",
    "    for r in range(N):\n",
    "        s = 0\n",
    "        for c in range(r):\n",
    "            s += m[r,c]*x[c]            \n",
    "        x[r] = (y[r]-s) / m[r,r]\n",
    "    assert allclose(dot(m,x), y)    # Check solution\n",
    "    return x\n",
    "\n",
    "def solve_u(m, y):\n",
    "    m2 = fliplr(flipud(m))     # flip matrix LR and UD, so upper diagonal matrix becomes lower diagonal\n",
    "    y2 = y[::-1]               # flip array\n",
    "    x2 = solve(m2, y2)\n",
    "    x = x2[::-1]\n",
    "    assert allclose(dot(m,x), y) # Check solution\n",
    "    return x\n",
    "\n",
    "def solve(m, y):\n",
    "    if (m==tril(m)).all():\n",
    "        return solve_l(m,y)\n",
    "    else:\n",
    "        return solve_u(m,y)"
   ]
  },
  {
   "cell_type": "markdown",
   "metadata": {},
   "source": [
    "## Example"
   ]
  },
  {
   "cell_type": "markdown",
   "metadata": {},
   "source": [
    "Unknowns ($\\bf{X^{org}}$), we will later try to solve these"
   ]
  },
  {
   "cell_type": "code",
   "execution_count": 3,
   "metadata": {},
   "outputs": [
    {
     "name": "stdout",
     "output_type": "stream",
     "text": [
      "[2 4 1]\n"
     ]
    }
   ],
   "source": [
    "x_org = array([2, 4, 1])\n",
    "print(x_org)"
   ]
  },
  {
   "cell_type": "markdown",
   "metadata": {},
   "source": [
    "Coefficients ($\\bf{M}$)"
   ]
  },
  {
   "cell_type": "code",
   "execution_count": 4,
   "metadata": {},
   "outputs": [
    {
     "name": "stdout",
     "output_type": "stream",
     "text": [
      "[[ 2 -1  1]\n",
      " [ 3  3  9]\n",
      " [ 3  3  5]]\n"
     ]
    }
   ],
   "source": [
    "m = array([[2,-1,1],[3,3,9],[3,3,5]])\n",
    "print(m)"
   ]
  },
  {
   "cell_type": "markdown",
   "metadata": {},
   "source": [
    "Results ($\\bf{Y}$)"
   ]
  },
  {
   "cell_type": "code",
   "execution_count": 5,
   "metadata": {},
   "outputs": [
    {
     "name": "stdout",
     "output_type": "stream",
     "text": [
      "[ 1 27 23]\n"
     ]
    }
   ],
   "source": [
    "y = dot(m,x_org)\n",
    "print(y)"
   ]
  },
  {
   "cell_type": "markdown",
   "metadata": {},
   "source": [
    "### Decompose matrix $\\bf{M}$"
   ]
  },
  {
   "cell_type": "code",
   "execution_count": 6,
   "metadata": {},
   "outputs": [],
   "source": [
    "# Note: matrix dot-product is not commutative, but is associative\n",
    "p, l, u = scipy.linalg.lu(m, permute_l=False)\n",
    "pl, u = scipy.linalg.lu(m, permute_l=True)\n",
    "assert (dot(p,l)==pl).all()\n",
    "assert (dot(pl,u)==m).all()\n",
    "assert (pinv(p)==p).all()"
   ]
  },
  {
   "cell_type": "markdown",
   "metadata": {},
   "source": [
    "Lower diagonal matrix ($\\bf{L}$), zero element above the principal diagonal"
   ]
  },
  {
   "cell_type": "code",
   "execution_count": 7,
   "metadata": {},
   "outputs": [
    {
     "name": "stdout",
     "output_type": "stream",
     "text": [
      "[[ 1.          0.          0.        ]\n",
      " [ 0.66666667  1.          0.        ]\n",
      " [ 1.         -0.          1.        ]]\n"
     ]
    }
   ],
   "source": [
    "print(l)"
   ]
  },
  {
   "cell_type": "markdown",
   "metadata": {},
   "source": [
    "Upper diagnonal matrix ($\\bf{U}$), zero elements below the principal diagonal"
   ]
  },
  {
   "cell_type": "code",
   "execution_count": 8,
   "metadata": {},
   "outputs": [
    {
     "name": "stdout",
     "output_type": "stream",
     "text": [
      "[[ 3.  3.  9.]\n",
      " [ 0. -3. -5.]\n",
      " [ 0.  0. -4.]]\n"
     ]
    }
   ],
   "source": [
    "print(u)"
   ]
  },
  {
   "cell_type": "markdown",
   "metadata": {},
   "source": [
    "Permutation matrix ($\\bf{P}$)"
   ]
  },
  {
   "cell_type": "code",
   "execution_count": 9,
   "metadata": {},
   "outputs": [
    {
     "name": "stdout",
     "output_type": "stream",
     "text": [
      "[[ 0.  1.  0.]\n",
      " [ 1.  0.  0.]\n",
      " [ 0.  0.  1.]]\n"
     ]
    }
   ],
   "source": [
    "print(p)"
   ]
  },
  {
   "cell_type": "code",
   "execution_count": 10,
   "metadata": {},
   "outputs": [],
   "source": [
    "assert (l*u==multiply(l,u)).all()          # memberwise multiplication\n",
    "assert (m==dot(dot(p,l),u)).all()          # matrix multiplication, M=LU\n",
    "assert (pinv(p)==p).all()                  # Assert that permutation matrix is identical to it's inverse"
   ]
  },
  {
   "cell_type": "markdown",
   "metadata": {},
   "source": [
    "### Solution"
   ]
  },
  {
   "cell_type": "markdown",
   "metadata": {},
   "source": [
    "$$\\bf{M \\cdot X = Y}$$\n",
    "$$\\bf{P \\cdot L \\cdot U \\cdot X = Y}$$\n",
    "$$\\bf{L \\cdot U \\cdot X = P^{-1} \\cdot Y}$$\n",
    "set $$ \\bf{Z = U \\cdot X} $$\n",
    "then\n",
    "$$ \\bf{ L \\cdot Z = P \\cdot Y } $$\n",
    "Solve $\\bf{Z}$ in $\\bf{ L \\cdot Z = P \\cdot Y }$ using Gaussian elimination"
   ]
  },
  {
   "cell_type": "code",
   "execution_count": 11,
   "metadata": {},
   "outputs": [
    {
     "name": "stdout",
     "output_type": "stream",
     "text": [
      "[ 27. -17.  -4.]\n"
     ]
    }
   ],
   "source": [
    "z = solve(l, dot(p,y))\n",
    "print(z)"
   ]
  },
  {
   "cell_type": "markdown",
   "metadata": {},
   "source": [
    "Solve $\\bf{X}$ in $ \\bf{U \\cdot X = Z} $ using Gaussian elimination"
   ]
  },
  {
   "cell_type": "code",
   "execution_count": 12,
   "metadata": {},
   "outputs": [
    {
     "name": "stdout",
     "output_type": "stream",
     "text": [
      "[ 2.  4.  1.]\n"
     ]
    }
   ],
   "source": [
    "x = solve(u, z)\n",
    "assert allclose(x_org,x)\n",
    "print(x)"
   ]
  }
 ],
 "metadata": {
  "kernelspec": {
   "display_name": "Python 3",
   "language": "python",
   "name": "python3"
  },
  "language_info": {
   "codemirror_mode": {
    "name": "ipython",
    "version": 3
   },
   "file_extension": ".py",
   "mimetype": "text/x-python",
   "name": "python",
   "nbconvert_exporter": "python",
   "pygments_lexer": "ipython3",
   "version": "3.6.0"
  }
 },
 "nbformat": 4,
 "nbformat_minor": 1
}
